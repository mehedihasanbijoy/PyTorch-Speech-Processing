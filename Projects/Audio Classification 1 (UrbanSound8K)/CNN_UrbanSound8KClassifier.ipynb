{
  "nbformat": 4,
  "nbformat_minor": 0,
  "metadata": {
    "colab": {
      "provenance": [],
      "gpuType": "T4",
      "authorship_tag": "ABX9TyOd09sUd7S6/9ukPROLkefG",
      "include_colab_link": true
    },
    "kernelspec": {
      "name": "python3",
      "display_name": "Python 3"
    },
    "language_info": {
      "name": "python"
    },
    "accelerator": "GPU"
  },
  "cells": [
    {
      "cell_type": "markdown",
      "metadata": {
        "id": "view-in-github",
        "colab_type": "text"
      },
      "source": [
        "<a href=\"https://colab.research.google.com/github/mehedihasanbijoy/PyTorch-Speech-Processing/blob/main/Projects/Audio%20Classification%201%20(UrbanSound8K)/CNN_UrbanSound8KClassifier.ipynb\" target=\"_parent\"><img src=\"https://colab.research.google.com/assets/colab-badge.svg\" alt=\"Open In Colab\"/></a>"
      ]
    },
    {
      "cell_type": "code",
      "execution_count": null,
      "metadata": {
        "colab": {
          "base_uri": "https://localhost:8080/"
        },
        "id": "aWshSHM1r0zZ",
        "outputId": "6a8ce4c4-4049-4fa6-91f4-8f7cf36c54d1"
      },
      "outputs": [
        {
          "output_type": "stream",
          "name": "stdout",
          "text": [
            "Collecting opendatasets\n",
            "  Downloading opendatasets-0.1.22-py3-none-any.whl (15 kB)\n",
            "Requirement already satisfied: tqdm in /usr/local/lib/python3.10/dist-packages (from opendatasets) (4.66.2)\n",
            "Requirement already satisfied: kaggle in /usr/local/lib/python3.10/dist-packages (from opendatasets) (1.5.16)\n",
            "Requirement already satisfied: click in /usr/local/lib/python3.10/dist-packages (from opendatasets) (8.1.7)\n",
            "Requirement already satisfied: six>=1.10 in /usr/local/lib/python3.10/dist-packages (from kaggle->opendatasets) (1.16.0)\n",
            "Requirement already satisfied: certifi in /usr/local/lib/python3.10/dist-packages (from kaggle->opendatasets) (2024.2.2)\n",
            "Requirement already satisfied: python-dateutil in /usr/local/lib/python3.10/dist-packages (from kaggle->opendatasets) (2.8.2)\n",
            "Requirement already satisfied: requests in /usr/local/lib/python3.10/dist-packages (from kaggle->opendatasets) (2.31.0)\n",
            "Requirement already satisfied: python-slugify in /usr/local/lib/python3.10/dist-packages (from kaggle->opendatasets) (8.0.4)\n",
            "Requirement already satisfied: urllib3 in /usr/local/lib/python3.10/dist-packages (from kaggle->opendatasets) (2.0.7)\n",
            "Requirement already satisfied: bleach in /usr/local/lib/python3.10/dist-packages (from kaggle->opendatasets) (6.1.0)\n",
            "Requirement already satisfied: webencodings in /usr/local/lib/python3.10/dist-packages (from bleach->kaggle->opendatasets) (0.5.1)\n",
            "Requirement already satisfied: text-unidecode>=1.3 in /usr/local/lib/python3.10/dist-packages (from python-slugify->kaggle->opendatasets) (1.3)\n",
            "Requirement already satisfied: charset-normalizer<4,>=2 in /usr/local/lib/python3.10/dist-packages (from requests->kaggle->opendatasets) (3.3.2)\n",
            "Requirement already satisfied: idna<4,>=2.5 in /usr/local/lib/python3.10/dist-packages (from requests->kaggle->opendatasets) (3.6)\n",
            "Installing collected packages: opendatasets\n",
            "Successfully installed opendatasets-0.1.22\n"
          ]
        }
      ],
      "source": [
        "!pip install opendatasets --upgrade"
      ]
    },
    {
      "cell_type": "code",
      "source": [
        "import opendatasets as od\n",
        "\n",
        "od.download('https://www.kaggle.com/datasets/chrisfilo/urbansound8k')"
      ],
      "metadata": {
        "colab": {
          "base_uri": "https://localhost:8080/"
        },
        "id": "40c9BksesRfT",
        "outputId": "0ae12cfc-f9c8-48af-8704-485e8878dc7f"
      },
      "execution_count": null,
      "outputs": [
        {
          "output_type": "stream",
          "name": "stdout",
          "text": [
            "Downloading urbansound8k.zip to ./urbansound8k\n"
          ]
        },
        {
          "output_type": "stream",
          "name": "stderr",
          "text": [
            "100%|██████████| 5.61G/5.61G [01:04<00:00, 93.5MB/s]\n"
          ]
        },
        {
          "output_type": "stream",
          "name": "stdout",
          "text": [
            "\n"
          ]
        }
      ]
    },
    {
      "cell_type": "code",
      "source": [
        "import pandas as pd\n",
        "import torch\n",
        "import torchaudio\n",
        "import os\n",
        "import glob\n",
        "from sklearn import metrics\n",
        "from tqdm import tqdm\n",
        "import matplotlib.pyplot as plt"
      ],
      "metadata": {
        "id": "4rPUakZfsRh7"
      },
      "execution_count": null,
      "outputs": []
    },
    {
      "cell_type": "code",
      "source": [
        "def extract_audio_file_name(path):\n",
        "    return path.split(\"/\")[-1]"
      ],
      "metadata": {
        "id": "SVtvu0lb8IGJ"
      },
      "execution_count": null,
      "outputs": []
    },
    {
      "cell_type": "code",
      "source": [
        "all_paths = glob.glob(\"/content/urbansound8k/*/*.wav\")\n",
        "\n",
        "df = pd.DataFrame({\"path\": all_paths})\n",
        "df['audio_file_name'] = df['path'].apply(extract_audio_file_name)\n",
        "df = df.sort_values(by = \"audio_file_name\")"
      ],
      "metadata": {
        "id": "Sl_CMTdJ7x8k"
      },
      "execution_count": null,
      "outputs": []
    },
    {
      "cell_type": "code",
      "source": [
        "annotation_df = pd.read_csv(\"/content/urbansound8k/UrbanSound8K.csv\")\n",
        "annotation_df = annotation_df.sort_values(by = \"slice_file_name\")\n",
        "\n",
        "annotation_df['path'] = df['path'].values\n",
        "\n",
        "annotation_df = annotation_df[[\"path\", \"slice_file_name\", \"fsID\", \"start\", \"end\", \"salience\", \"fold\", \"classID\", \"class\"]]\n",
        "annotation_df = annotation_df.sample(frac=1, random_state=32)\n",
        "annotation_df = annotation_df.reset_index(drop=True)\n",
        "annotation_df"
      ],
      "metadata": {
        "colab": {
          "base_uri": "https://localhost:8080/",
          "height": 424
        },
        "id": "uIdQVlolsRlE",
        "outputId": "58f737ff-cecc-4466-e559-a053a6012c0e"
      },
      "execution_count": null,
      "outputs": [
        {
          "output_type": "execute_result",
          "data": {
            "text/plain": [
              "                                               path    slice_file_name  \\\n",
              "0      /content/urbansound8k/fold2/113201-5-0-6.wav   113201-5-0-6.wav   \n",
              "1     /content/urbansound8k/fold4/55018-0-0-116.wav  55018-0-0-116.wav   \n",
              "2     /content/urbansound8k/fold8/160016-2-0-13.wav  160016-2-0-13.wav   \n",
              "3      /content/urbansound8k/fold6/107842-4-0-1.wav   107842-4-0-1.wav   \n",
              "4       /content/urbansound8k/fold6/24364-4-0-0.wav    24364-4-0-0.wav   \n",
              "...                                             ...                ...   \n",
              "8727   /content/urbansound8k/fold9/187075-5-0-2.wav   187075-5-0-2.wav   \n",
              "8728   /content/urbansound8k/fold9/165567-3-0-0.wav   165567-3-0-0.wav   \n",
              "8729  /content/urbansound8k/fold10/93567-8-0-10.wav   93567-8-0-10.wav   \n",
              "8730    /content/urbansound8k/fold9/72265-3-4-0.wav    72265-3-4-0.wav   \n",
              "8731  /content/urbansound8k/fold10/178261-7-3-5.wav   178261-7-3-5.wav   \n",
              "\n",
              "        fsID      start        end  salience  fold  classID             class  \n",
              "0     113201   3.000000   7.000000         1     2        5     engine_idling  \n",
              "1      55018  62.041583  66.041583         1     4        0   air_conditioner  \n",
              "2     160016   6.500000  10.500000         2     8        2  children_playing  \n",
              "3     107842   1.657328   5.657328         1     6        4          drilling  \n",
              "4      24364   0.633371   4.633371         1     6        4          drilling  \n",
              "...      ...        ...        ...       ...   ...      ...               ...  \n",
              "8727  187075   4.446779   8.446779         2     9        5     engine_idling  \n",
              "8728  165567   0.147106   4.147106         2     9        3          dog_bark  \n",
              "8729   93567   9.044365  13.044365         2    10        8             siren  \n",
              "8730   72265  31.024479  33.127833         2     9        3          dog_bark  \n",
              "8731  178261  20.271547  24.271547         1    10        7        jackhammer  \n",
              "\n",
              "[8732 rows x 9 columns]"
            ],
            "text/html": [
              "\n",
              "  <div id=\"df-fa90b6e6-2795-43ee-9023-96bf325c58ba\" class=\"colab-df-container\">\n",
              "    <div>\n",
              "<style scoped>\n",
              "    .dataframe tbody tr th:only-of-type {\n",
              "        vertical-align: middle;\n",
              "    }\n",
              "\n",
              "    .dataframe tbody tr th {\n",
              "        vertical-align: top;\n",
              "    }\n",
              "\n",
              "    .dataframe thead th {\n",
              "        text-align: right;\n",
              "    }\n",
              "</style>\n",
              "<table border=\"1\" class=\"dataframe\">\n",
              "  <thead>\n",
              "    <tr style=\"text-align: right;\">\n",
              "      <th></th>\n",
              "      <th>path</th>\n",
              "      <th>slice_file_name</th>\n",
              "      <th>fsID</th>\n",
              "      <th>start</th>\n",
              "      <th>end</th>\n",
              "      <th>salience</th>\n",
              "      <th>fold</th>\n",
              "      <th>classID</th>\n",
              "      <th>class</th>\n",
              "    </tr>\n",
              "  </thead>\n",
              "  <tbody>\n",
              "    <tr>\n",
              "      <th>0</th>\n",
              "      <td>/content/urbansound8k/fold2/113201-5-0-6.wav</td>\n",
              "      <td>113201-5-0-6.wav</td>\n",
              "      <td>113201</td>\n",
              "      <td>3.000000</td>\n",
              "      <td>7.000000</td>\n",
              "      <td>1</td>\n",
              "      <td>2</td>\n",
              "      <td>5</td>\n",
              "      <td>engine_idling</td>\n",
              "    </tr>\n",
              "    <tr>\n",
              "      <th>1</th>\n",
              "      <td>/content/urbansound8k/fold4/55018-0-0-116.wav</td>\n",
              "      <td>55018-0-0-116.wav</td>\n",
              "      <td>55018</td>\n",
              "      <td>62.041583</td>\n",
              "      <td>66.041583</td>\n",
              "      <td>1</td>\n",
              "      <td>4</td>\n",
              "      <td>0</td>\n",
              "      <td>air_conditioner</td>\n",
              "    </tr>\n",
              "    <tr>\n",
              "      <th>2</th>\n",
              "      <td>/content/urbansound8k/fold8/160016-2-0-13.wav</td>\n",
              "      <td>160016-2-0-13.wav</td>\n",
              "      <td>160016</td>\n",
              "      <td>6.500000</td>\n",
              "      <td>10.500000</td>\n",
              "      <td>2</td>\n",
              "      <td>8</td>\n",
              "      <td>2</td>\n",
              "      <td>children_playing</td>\n",
              "    </tr>\n",
              "    <tr>\n",
              "      <th>3</th>\n",
              "      <td>/content/urbansound8k/fold6/107842-4-0-1.wav</td>\n",
              "      <td>107842-4-0-1.wav</td>\n",
              "      <td>107842</td>\n",
              "      <td>1.657328</td>\n",
              "      <td>5.657328</td>\n",
              "      <td>1</td>\n",
              "      <td>6</td>\n",
              "      <td>4</td>\n",
              "      <td>drilling</td>\n",
              "    </tr>\n",
              "    <tr>\n",
              "      <th>4</th>\n",
              "      <td>/content/urbansound8k/fold6/24364-4-0-0.wav</td>\n",
              "      <td>24364-4-0-0.wav</td>\n",
              "      <td>24364</td>\n",
              "      <td>0.633371</td>\n",
              "      <td>4.633371</td>\n",
              "      <td>1</td>\n",
              "      <td>6</td>\n",
              "      <td>4</td>\n",
              "      <td>drilling</td>\n",
              "    </tr>\n",
              "    <tr>\n",
              "      <th>...</th>\n",
              "      <td>...</td>\n",
              "      <td>...</td>\n",
              "      <td>...</td>\n",
              "      <td>...</td>\n",
              "      <td>...</td>\n",
              "      <td>...</td>\n",
              "      <td>...</td>\n",
              "      <td>...</td>\n",
              "      <td>...</td>\n",
              "    </tr>\n",
              "    <tr>\n",
              "      <th>8727</th>\n",
              "      <td>/content/urbansound8k/fold9/187075-5-0-2.wav</td>\n",
              "      <td>187075-5-0-2.wav</td>\n",
              "      <td>187075</td>\n",
              "      <td>4.446779</td>\n",
              "      <td>8.446779</td>\n",
              "      <td>2</td>\n",
              "      <td>9</td>\n",
              "      <td>5</td>\n",
              "      <td>engine_idling</td>\n",
              "    </tr>\n",
              "    <tr>\n",
              "      <th>8728</th>\n",
              "      <td>/content/urbansound8k/fold9/165567-3-0-0.wav</td>\n",
              "      <td>165567-3-0-0.wav</td>\n",
              "      <td>165567</td>\n",
              "      <td>0.147106</td>\n",
              "      <td>4.147106</td>\n",
              "      <td>2</td>\n",
              "      <td>9</td>\n",
              "      <td>3</td>\n",
              "      <td>dog_bark</td>\n",
              "    </tr>\n",
              "    <tr>\n",
              "      <th>8729</th>\n",
              "      <td>/content/urbansound8k/fold10/93567-8-0-10.wav</td>\n",
              "      <td>93567-8-0-10.wav</td>\n",
              "      <td>93567</td>\n",
              "      <td>9.044365</td>\n",
              "      <td>13.044365</td>\n",
              "      <td>2</td>\n",
              "      <td>10</td>\n",
              "      <td>8</td>\n",
              "      <td>siren</td>\n",
              "    </tr>\n",
              "    <tr>\n",
              "      <th>8730</th>\n",
              "      <td>/content/urbansound8k/fold9/72265-3-4-0.wav</td>\n",
              "      <td>72265-3-4-0.wav</td>\n",
              "      <td>72265</td>\n",
              "      <td>31.024479</td>\n",
              "      <td>33.127833</td>\n",
              "      <td>2</td>\n",
              "      <td>9</td>\n",
              "      <td>3</td>\n",
              "      <td>dog_bark</td>\n",
              "    </tr>\n",
              "    <tr>\n",
              "      <th>8731</th>\n",
              "      <td>/content/urbansound8k/fold10/178261-7-3-5.wav</td>\n",
              "      <td>178261-7-3-5.wav</td>\n",
              "      <td>178261</td>\n",
              "      <td>20.271547</td>\n",
              "      <td>24.271547</td>\n",
              "      <td>1</td>\n",
              "      <td>10</td>\n",
              "      <td>7</td>\n",
              "      <td>jackhammer</td>\n",
              "    </tr>\n",
              "  </tbody>\n",
              "</table>\n",
              "<p>8732 rows × 9 columns</p>\n",
              "</div>\n",
              "    <div class=\"colab-df-buttons\">\n",
              "\n",
              "  <div class=\"colab-df-container\">\n",
              "    <button class=\"colab-df-convert\" onclick=\"convertToInteractive('df-fa90b6e6-2795-43ee-9023-96bf325c58ba')\"\n",
              "            title=\"Convert this dataframe to an interactive table.\"\n",
              "            style=\"display:none;\">\n",
              "\n",
              "  <svg xmlns=\"http://www.w3.org/2000/svg\" height=\"24px\" viewBox=\"0 -960 960 960\">\n",
              "    <path d=\"M120-120v-720h720v720H120Zm60-500h600v-160H180v160Zm220 220h160v-160H400v160Zm0 220h160v-160H400v160ZM180-400h160v-160H180v160Zm440 0h160v-160H620v160ZM180-180h160v-160H180v160Zm440 0h160v-160H620v160Z\"/>\n",
              "  </svg>\n",
              "    </button>\n",
              "\n",
              "  <style>\n",
              "    .colab-df-container {\n",
              "      display:flex;\n",
              "      gap: 12px;\n",
              "    }\n",
              "\n",
              "    .colab-df-convert {\n",
              "      background-color: #E8F0FE;\n",
              "      border: none;\n",
              "      border-radius: 50%;\n",
              "      cursor: pointer;\n",
              "      display: none;\n",
              "      fill: #1967D2;\n",
              "      height: 32px;\n",
              "      padding: 0 0 0 0;\n",
              "      width: 32px;\n",
              "    }\n",
              "\n",
              "    .colab-df-convert:hover {\n",
              "      background-color: #E2EBFA;\n",
              "      box-shadow: 0px 1px 2px rgba(60, 64, 67, 0.3), 0px 1px 3px 1px rgba(60, 64, 67, 0.15);\n",
              "      fill: #174EA6;\n",
              "    }\n",
              "\n",
              "    .colab-df-buttons div {\n",
              "      margin-bottom: 4px;\n",
              "    }\n",
              "\n",
              "    [theme=dark] .colab-df-convert {\n",
              "      background-color: #3B4455;\n",
              "      fill: #D2E3FC;\n",
              "    }\n",
              "\n",
              "    [theme=dark] .colab-df-convert:hover {\n",
              "      background-color: #434B5C;\n",
              "      box-shadow: 0px 1px 3px 1px rgba(0, 0, 0, 0.15);\n",
              "      filter: drop-shadow(0px 1px 2px rgba(0, 0, 0, 0.3));\n",
              "      fill: #FFFFFF;\n",
              "    }\n",
              "  </style>\n",
              "\n",
              "    <script>\n",
              "      const buttonEl =\n",
              "        document.querySelector('#df-fa90b6e6-2795-43ee-9023-96bf325c58ba button.colab-df-convert');\n",
              "      buttonEl.style.display =\n",
              "        google.colab.kernel.accessAllowed ? 'block' : 'none';\n",
              "\n",
              "      async function convertToInteractive(key) {\n",
              "        const element = document.querySelector('#df-fa90b6e6-2795-43ee-9023-96bf325c58ba');\n",
              "        const dataTable =\n",
              "          await google.colab.kernel.invokeFunction('convertToInteractive',\n",
              "                                                    [key], {});\n",
              "        if (!dataTable) return;\n",
              "\n",
              "        const docLinkHtml = 'Like what you see? Visit the ' +\n",
              "          '<a target=\"_blank\" href=https://colab.research.google.com/notebooks/data_table.ipynb>data table notebook</a>'\n",
              "          + ' to learn more about interactive tables.';\n",
              "        element.innerHTML = '';\n",
              "        dataTable['output_type'] = 'display_data';\n",
              "        await google.colab.output.renderOutput(dataTable, element);\n",
              "        const docLink = document.createElement('div');\n",
              "        docLink.innerHTML = docLinkHtml;\n",
              "        element.appendChild(docLink);\n",
              "      }\n",
              "    </script>\n",
              "  </div>\n",
              "\n",
              "\n",
              "<div id=\"df-66d67a4e-bb3b-41e9-bdee-f54197d532a5\">\n",
              "  <button class=\"colab-df-quickchart\" onclick=\"quickchart('df-66d67a4e-bb3b-41e9-bdee-f54197d532a5')\"\n",
              "            title=\"Suggest charts\"\n",
              "            style=\"display:none;\">\n",
              "\n",
              "<svg xmlns=\"http://www.w3.org/2000/svg\" height=\"24px\"viewBox=\"0 0 24 24\"\n",
              "     width=\"24px\">\n",
              "    <g>\n",
              "        <path d=\"M19 3H5c-1.1 0-2 .9-2 2v14c0 1.1.9 2 2 2h14c1.1 0 2-.9 2-2V5c0-1.1-.9-2-2-2zM9 17H7v-7h2v7zm4 0h-2V7h2v10zm4 0h-2v-4h2v4z\"/>\n",
              "    </g>\n",
              "</svg>\n",
              "  </button>\n",
              "\n",
              "<style>\n",
              "  .colab-df-quickchart {\n",
              "      --bg-color: #E8F0FE;\n",
              "      --fill-color: #1967D2;\n",
              "      --hover-bg-color: #E2EBFA;\n",
              "      --hover-fill-color: #174EA6;\n",
              "      --disabled-fill-color: #AAA;\n",
              "      --disabled-bg-color: #DDD;\n",
              "  }\n",
              "\n",
              "  [theme=dark] .colab-df-quickchart {\n",
              "      --bg-color: #3B4455;\n",
              "      --fill-color: #D2E3FC;\n",
              "      --hover-bg-color: #434B5C;\n",
              "      --hover-fill-color: #FFFFFF;\n",
              "      --disabled-bg-color: #3B4455;\n",
              "      --disabled-fill-color: #666;\n",
              "  }\n",
              "\n",
              "  .colab-df-quickchart {\n",
              "    background-color: var(--bg-color);\n",
              "    border: none;\n",
              "    border-radius: 50%;\n",
              "    cursor: pointer;\n",
              "    display: none;\n",
              "    fill: var(--fill-color);\n",
              "    height: 32px;\n",
              "    padding: 0;\n",
              "    width: 32px;\n",
              "  }\n",
              "\n",
              "  .colab-df-quickchart:hover {\n",
              "    background-color: var(--hover-bg-color);\n",
              "    box-shadow: 0 1px 2px rgba(60, 64, 67, 0.3), 0 1px 3px 1px rgba(60, 64, 67, 0.15);\n",
              "    fill: var(--button-hover-fill-color);\n",
              "  }\n",
              "\n",
              "  .colab-df-quickchart-complete:disabled,\n",
              "  .colab-df-quickchart-complete:disabled:hover {\n",
              "    background-color: var(--disabled-bg-color);\n",
              "    fill: var(--disabled-fill-color);\n",
              "    box-shadow: none;\n",
              "  }\n",
              "\n",
              "  .colab-df-spinner {\n",
              "    border: 2px solid var(--fill-color);\n",
              "    border-color: transparent;\n",
              "    border-bottom-color: var(--fill-color);\n",
              "    animation:\n",
              "      spin 1s steps(1) infinite;\n",
              "  }\n",
              "\n",
              "  @keyframes spin {\n",
              "    0% {\n",
              "      border-color: transparent;\n",
              "      border-bottom-color: var(--fill-color);\n",
              "      border-left-color: var(--fill-color);\n",
              "    }\n",
              "    20% {\n",
              "      border-color: transparent;\n",
              "      border-left-color: var(--fill-color);\n",
              "      border-top-color: var(--fill-color);\n",
              "    }\n",
              "    30% {\n",
              "      border-color: transparent;\n",
              "      border-left-color: var(--fill-color);\n",
              "      border-top-color: var(--fill-color);\n",
              "      border-right-color: var(--fill-color);\n",
              "    }\n",
              "    40% {\n",
              "      border-color: transparent;\n",
              "      border-right-color: var(--fill-color);\n",
              "      border-top-color: var(--fill-color);\n",
              "    }\n",
              "    60% {\n",
              "      border-color: transparent;\n",
              "      border-right-color: var(--fill-color);\n",
              "    }\n",
              "    80% {\n",
              "      border-color: transparent;\n",
              "      border-right-color: var(--fill-color);\n",
              "      border-bottom-color: var(--fill-color);\n",
              "    }\n",
              "    90% {\n",
              "      border-color: transparent;\n",
              "      border-bottom-color: var(--fill-color);\n",
              "    }\n",
              "  }\n",
              "</style>\n",
              "\n",
              "  <script>\n",
              "    async function quickchart(key) {\n",
              "      const quickchartButtonEl =\n",
              "        document.querySelector('#' + key + ' button');\n",
              "      quickchartButtonEl.disabled = true;  // To prevent multiple clicks.\n",
              "      quickchartButtonEl.classList.add('colab-df-spinner');\n",
              "      try {\n",
              "        const charts = await google.colab.kernel.invokeFunction(\n",
              "            'suggestCharts', [key], {});\n",
              "      } catch (error) {\n",
              "        console.error('Error during call to suggestCharts:', error);\n",
              "      }\n",
              "      quickchartButtonEl.classList.remove('colab-df-spinner');\n",
              "      quickchartButtonEl.classList.add('colab-df-quickchart-complete');\n",
              "    }\n",
              "    (() => {\n",
              "      let quickchartButtonEl =\n",
              "        document.querySelector('#df-66d67a4e-bb3b-41e9-bdee-f54197d532a5 button');\n",
              "      quickchartButtonEl.style.display =\n",
              "        google.colab.kernel.accessAllowed ? 'block' : 'none';\n",
              "    })();\n",
              "  </script>\n",
              "</div>\n",
              "    </div>\n",
              "  </div>\n"
            ],
            "application/vnd.google.colaboratory.intrinsic+json": {
              "type": "dataframe",
              "variable_name": "annotation_df",
              "summary": "{\n  \"name\": \"annotation_df\",\n  \"rows\": 8732,\n  \"fields\": [\n    {\n      \"column\": \"path\",\n      \"properties\": {\n        \"dtype\": \"string\",\n        \"num_unique_values\": 8732,\n        \"samples\": [\n          \"/content/urbansound8k/fold10/27070-2-0-8.wav\",\n          \"/content/urbansound8k/fold4/174032-2-0-26.wav\",\n          \"/content/urbansound8k/fold5/72259-1-9-15.wav\"\n        ],\n        \"semantic_type\": \"\",\n        \"description\": \"\"\n      }\n    },\n    {\n      \"column\": \"slice_file_name\",\n      \"properties\": {\n        \"dtype\": \"string\",\n        \"num_unique_values\": 8732,\n        \"samples\": [\n          \"27070-2-0-8.wav\",\n          \"174032-2-0-26.wav\",\n          \"72259-1-9-15.wav\"\n        ],\n        \"semantic_type\": \"\",\n        \"description\": \"\"\n      }\n    },\n    {\n      \"column\": \"fsID\",\n      \"properties\": {\n        \"dtype\": \"number\",\n        \"std\": 57991,\n        \"min\": 344,\n        \"max\": 209992,\n        \"num_unique_values\": 1297,\n        \"samples\": [\n          42324,\n          60591,\n          155312\n        ],\n        \"semantic_type\": \"\",\n        \"description\": \"\"\n      }\n    },\n    {\n      \"column\": \"start\",\n      \"properties\": {\n        \"dtype\": \"number\",\n        \"std\": 74.29212630755423,\n        \"min\": 0.0,\n        \"max\": 600.125356,\n        \"num_unique_values\": 4878,\n        \"samples\": [\n          12.309707,\n          55.5,\n          57.044659\n        ],\n        \"semantic_type\": \"\",\n        \"description\": \"\"\n      }\n    },\n    {\n      \"column\": \"end\",\n      \"properties\": {\n        \"dtype\": \"number\",\n        \"std\": 74.36966935075833,\n        \"min\": 0.105962,\n        \"max\": 604.125356,\n        \"num_unique_values\": 5020,\n        \"samples\": [\n          6.177342,\n          11.843632,\n          83.881658\n        ],\n        \"semantic_type\": \"\",\n        \"description\": \"\"\n      }\n    },\n    {\n      \"column\": \"salience\",\n      \"properties\": {\n        \"dtype\": \"number\",\n        \"std\": 0,\n        \"min\": 1,\n        \"max\": 2,\n        \"num_unique_values\": 2,\n        \"samples\": [\n          2,\n          1\n        ],\n        \"semantic_type\": \"\",\n        \"description\": \"\"\n      }\n    },\n    {\n      \"column\": \"fold\",\n      \"properties\": {\n        \"dtype\": \"number\",\n        \"std\": 2,\n        \"min\": 1,\n        \"max\": 10,\n        \"num_unique_values\": 10,\n        \"samples\": [\n          1,\n          4\n        ],\n        \"semantic_type\": \"\",\n        \"description\": \"\"\n      }\n    },\n    {\n      \"column\": \"classID\",\n      \"properties\": {\n        \"dtype\": \"number\",\n        \"std\": 2,\n        \"min\": 0,\n        \"max\": 9,\n        \"num_unique_values\": 10,\n        \"samples\": [\n          9,\n          0\n        ],\n        \"semantic_type\": \"\",\n        \"description\": \"\"\n      }\n    },\n    {\n      \"column\": \"class\",\n      \"properties\": {\n        \"dtype\": \"category\",\n        \"num_unique_values\": 10,\n        \"samples\": [\n          \"street_music\",\n          \"air_conditioner\"\n        ],\n        \"semantic_type\": \"\",\n        \"description\": \"\"\n      }\n    }\n  ]\n}"
            }
          },
          "metadata": {},
          "execution_count": 6
        }
      ]
    },
    {
      "cell_type": "code",
      "source": [
        "train_df = annotation_df.iloc[:int(len(annotation_df)*.8), :]\n",
        "test_df = annotation_df.iloc[int(len(annotation_df)*.8):, :]\n",
        "\n",
        "train_df = train_df.reset_index(drop=True)\n",
        "test_df = test_df.reset_index(drop=True)\n",
        "\n",
        "len(train_df), len(test_df)"
      ],
      "metadata": {
        "colab": {
          "base_uri": "https://localhost:8080/"
        },
        "id": "65utCvmQa_mF",
        "outputId": "bfe76231-047c-4eea-996e-350090bae6fa"
      },
      "execution_count": null,
      "outputs": [
        {
          "output_type": "execute_result",
          "data": {
            "text/plain": [
              "(6985, 1747)"
            ]
          },
          "metadata": {},
          "execution_count": 7
        }
      ]
    },
    {
      "cell_type": "code",
      "source": [
        "classes = sorted(list(set(annotation_df['class'].values)))\n",
        "classes"
      ],
      "metadata": {
        "colab": {
          "base_uri": "https://localhost:8080/"
        },
        "id": "D64y5snXaEqz",
        "outputId": "038c7e87-539b-407b-e176-e6dd9d4c99e6"
      },
      "execution_count": null,
      "outputs": [
        {
          "output_type": "execute_result",
          "data": {
            "text/plain": [
              "['air_conditioner',\n",
              " 'car_horn',\n",
              " 'children_playing',\n",
              " 'dog_bark',\n",
              " 'drilling',\n",
              " 'engine_idling',\n",
              " 'gun_shot',\n",
              " 'jackhammer',\n",
              " 'siren',\n",
              " 'street_music']"
            ]
          },
          "metadata": {},
          "execution_count": 8
        }
      ]
    },
    {
      "cell_type": "code",
      "source": [
        "class UrbanSound8K(torch.utils.data.Dataset):\n",
        "    def __init__(self, df, target_sample_rate, num_samples, transformation=None):\n",
        "        self.df = df\n",
        "        self.target_sample_rate = target_sample_rate\n",
        "        self.num_samples = num_samples\n",
        "        self.transformation = transformation\n",
        "\n",
        "    def __len__(self):\n",
        "        return len(self.df)\n",
        "\n",
        "    def __getitem__(self, idx):\n",
        "        audio_path = self.df['path'][idx]\n",
        "        audio_label = self.df['classID'][idx]\n",
        "        audio_signal, sr = torchaudio.load(audio_path)\n",
        "\n",
        "        audio_signal = self._resample_if_necessary(audio_signal, sr)\n",
        "        audio_signal = self._mix_down_if_necessary(audio_signal)\n",
        "        audio_signal = self._cut_down_if_necessary(audio_signal)\n",
        "        audio_signal = self._right_pad_if_necessary(audio_signal)\n",
        "\n",
        "        if self.transformation:\n",
        "            audio_signal = self.transformation(audio_signal)\n",
        "\n",
        "        return audio_signal, torch.tensor(audio_label)\n",
        "\n",
        "\n",
        "    def _right_pad_if_necessary(self, audio_signal):\n",
        "        audio_signal_length = audio_signal.shape[1]\n",
        "        if audio_signal_length < self.num_samples:\n",
        "            num_missing_samples = self.num_samples - audio_signal_length\n",
        "            last_dim_padding = (0, num_missing_samples)\n",
        "            audio_signal = torch.nn.functional.pad(audio_signal, last_dim_padding)\n",
        "        return audio_signal\n",
        "\n",
        "\n",
        "    def _cut_down_if_necessary(self, audio_signal):\n",
        "        if audio_signal.shape[1] > self.num_samples:\n",
        "            audio_signal = audio_signal[:, :self.num_samples]\n",
        "        return audio_signal\n",
        "\n",
        "\n",
        "    def _mix_down_if_necessary(self, audio_signal):\n",
        "        if audio_signal.shape[0] > 1:\n",
        "            audio_signal = torch.mean(audio_signal, dim=0, keepdim=True)\n",
        "        return audio_signal\n",
        "\n",
        "\n",
        "    def _resample_if_necessary(self, audio_signal, sr):\n",
        "        if sr != self.target_sample_rate:\n",
        "            resampler = torchaudio.transforms.Resample(orig_freq=sr, new_freq=self.target_sample_rate)\n",
        "            audio_signal = resampler(audio_signal)\n",
        "        return audio_signal"
      ],
      "metadata": {
        "id": "yJixiNLhsRnu"
      },
      "execution_count": null,
      "outputs": []
    },
    {
      "cell_type": "code",
      "source": [
        "SAMPLE_RATE = 22050\n",
        "NUM_SAMPLES = 22050\n",
        "\n",
        "MEL_SPECTROGRAM = torchaudio.transforms.MelSpectrogram(\n",
        "    sample_rate = SAMPLE_RATE, n_fft=1024, hop_length=512, n_mels=64\n",
        ")\n",
        "\n",
        "BATCH_SIZE = 32\n",
        "DEVICE = torch.device(\"cuda\" if torch.cuda.is_available() else \"cpu\")"
      ],
      "metadata": {
        "id": "rMAE-unoRQYU"
      },
      "execution_count": null,
      "outputs": []
    },
    {
      "cell_type": "code",
      "source": [
        "train_dataset = UrbanSound8K(\n",
        "    df = train_df,\n",
        "    target_sample_rate = SAMPLE_RATE,\n",
        "    num_samples = NUM_SAMPLES,\n",
        "    transformation = MEL_SPECTROGRAM,\n",
        ")\n",
        "test_dataset = UrbanSound8K(\n",
        "    df = test_df,\n",
        "    target_sample_rate = SAMPLE_RATE,\n",
        "    num_samples = NUM_SAMPLES,\n",
        "    transformation = MEL_SPECTROGRAM,\n",
        ")\n",
        "\n",
        "\n",
        "train_loader = torch.utils.data.DataLoader(\n",
        "    dataset = train_dataset, batch_size = BATCH_SIZE, shuffle = True, drop_last = True,\n",
        ")\n",
        "test_loader = torch.utils.data.DataLoader(\n",
        "    dataset = test_dataset, batch_size = BATCH_SIZE, shuffle = False,\n",
        ")"
      ],
      "metadata": {
        "id": "eGEBwMUpEeIG"
      },
      "execution_count": null,
      "outputs": []
    },
    {
      "cell_type": "code",
      "source": [
        "audio, label = train_dataset.__getitem__(10)\n",
        "label, audio.shape\n",
        "# audio\n",
        "\n",
        "plt.figure(figsize=(10, 4))\n",
        "plt.imshow(audio.numpy()[0], aspect='auto', origin='lower', cmap='viridis')\n",
        "plt.colorbar(label='Intensity')\n",
        "plt.xlabel('Time')\n",
        "plt.ylabel('Mel Filter')\n",
        "plt.title('Mel Spectrogram')\n",
        "plt.show()"
      ],
      "metadata": {
        "id": "6E6dMAuysR8W",
        "colab": {
          "base_uri": "https://localhost:8080/",
          "height": 410
        },
        "outputId": "131ea691-b985-4dc7-acbb-1b33617e4979"
      },
      "execution_count": null,
      "outputs": [
        {
          "output_type": "display_data",
          "data": {
            "text/plain": [
              "<Figure size 1000x400 with 2 Axes>"
            ],
            "image/png": "[encoded data removed]"
          },
          "metadata": {}
        }
      ]
    },
    {
      "cell_type": "code",
      "source": [
        "class CNN(torch.nn.Module):\n",
        "    def __init__(self):\n",
        "        super(CNN, self).__init__()\n",
        "        self.conv1 = torch.nn.Conv2d(in_channels = 1, out_channels = 8, kernel_size = 3, stride = 1, padding = 2)\n",
        "        self.conv2 = torch.nn.Conv2d(in_channels = 8, out_channels = 16, kernel_size = 3, stride = 1, padding = 2)\n",
        "        self.conv3 = torch.nn.Conv2d(in_channels = 16, out_channels = 32, kernel_size = 3, stride = 1, padding = 2)\n",
        "        self.conv4 = torch.nn.Conv2d(in_channels = 32, out_channels = 64, kernel_size = 3, stride = 1, padding = 2)\n",
        "        self.maxpool = torch.nn.MaxPool2d(kernel_size=2, stride=2)\n",
        "        self.linear = torch.nn.Linear(in_features = 64*5*4, out_features = 10)\n",
        "        self.relu = torch.nn.ReLU()\n",
        "\n",
        "    def forward(self, x):\n",
        "        x = self.maxpool(self.relu(self.conv1(x)))\n",
        "        x = self.maxpool(self.relu(self.conv2(x)))\n",
        "        x = self.maxpool(self.relu(self.conv3(x)))\n",
        "        x = self.maxpool(self.relu(self.conv4(x)))\n",
        "        x = torch.flatten(x, start_dim = 1) # Alternative flatten approaches: (1) x = x.view(x.size(0), -1), (2) x = x.reshape(x.size(0), -1)\n",
        "        x = self.linear(x)\n",
        "        return x"
      ],
      "metadata": {
        "id": "-yCI-qzQsSCO"
      },
      "execution_count": null,
      "outputs": []
    },
    {
      "cell_type": "code",
      "source": [
        "def train(model, data_loader, optimizer, criterion, device):\n",
        "    model.train()\n",
        "    epoch_loss = 0\n",
        "    predictions, targets = [], []\n",
        "\n",
        "    for (audio_signals, labels) in data_loader:\n",
        "        audio_signals, labels = audio_signals.to(device), labels.to(device)\n",
        "        optimizer.zero_grad()\n",
        "        outputs = model(audio_signals)\n",
        "        loss = criterion(outputs, labels)\n",
        "        loss.backward()\n",
        "        optimizer.step()\n",
        "        epoch_loss += loss.item()\n",
        "        _, outputs = outputs.max(1)\n",
        "        predictions.extend(outputs.cpu().numpy())\n",
        "        targets.extend(labels.cpu().numpy())\n",
        "\n",
        "    epoch_loss /= len(data_loader)\n",
        "\n",
        "    pr = metrics.precision_score(targets, predictions, average=\"macro\")\n",
        "    re = metrics.recall_score(targets, predictions, average=\"macro\")\n",
        "    f1 = metrics.f1_score(targets, predictions, average=\"macro\")\n",
        "    ac = metrics.accuracy_score(targets, predictions)\n",
        "\n",
        "    return (epoch_loss, ac, pr, re, f1)\n"
      ],
      "metadata": {
        "id": "YqkpDcceqCUY"
      },
      "execution_count": null,
      "outputs": []
    },
    {
      "cell_type": "code",
      "source": [
        "def test(model, data_loader, criterion, device):\n",
        "    model.eval()\n",
        "    epoch_loss = 0\n",
        "    predictions, targets = [], []\n",
        "\n",
        "    data_loader = tqdm(data_loader, desc=f'Testing...', leave=False)\n",
        "\n",
        "    with torch.no_grad():\n",
        "        for (audio_signals, labels) in data_loader:\n",
        "            audio_signals, labels = audio_signals.to(device), labels.to(device)\n",
        "            outputs = model(audio_signals)\n",
        "            loss = criterion(outputs, labels)\n",
        "            epoch_loss += loss.item()\n",
        "            _, outputs = outputs.max(1)\n",
        "            predictions.extend(outputs.cpu().numpy())\n",
        "            targets.extend(labels.cpu().numpy())\n",
        "\n",
        "        epoch_loss /= len(data_loader)\n",
        "\n",
        "        pr = metrics.precision_score(targets, predictions, average=\"macro\")\n",
        "        re = metrics.recall_score(targets, predictions, average=\"macro\")\n",
        "        f1 = metrics.f1_score(targets, predictions, average=\"macro\")\n",
        "        ac = metrics.accuracy_score(targets, predictions)\n",
        "\n",
        "    return (epoch_loss, ac, pr, re, f1)"
      ],
      "metadata": {
        "id": "NxuH9ODssSQY"
      },
      "execution_count": null,
      "outputs": []
    },
    {
      "cell_type": "code",
      "source": [
        "model = CNN().to(DEVICE)"
      ],
      "metadata": {
        "id": "Bzk4RH7Cu3A7"
      },
      "execution_count": null,
      "outputs": []
    },
    {
      "cell_type": "code",
      "source": [
        "N_EPOCHS = 20\n",
        "LEARNING_RATE = 0.001\n",
        "CRITERION = torch.nn.CrossEntropyLoss()\n",
        "OPTIMIZER = torch.optim.Adam(model.parameters(), lr = LEARNING_RATE)"
      ],
      "metadata": {
        "id": "sH0HvlgKoi_V"
      },
      "execution_count": null,
      "outputs": []
    },
    {
      "cell_type": "code",
      "source": [
        "for epoch in range(N_EPOCHS):\n",
        "    epoch_loss, ac, pr, re, f1 = train(\n",
        "        model,\n",
        "        data_loader=tqdm(train_loader, desc=f'Epoch {epoch + 1}/{N_EPOCHS}', leave=False),\n",
        "        optimizer=OPTIMIZER,\n",
        "        criterion=CRITERION,\n",
        "        device=DEVICE\n",
        "    )\n",
        "    print(f'[Epoch - {epoch+1}] Training Loss: {epoch_loss:.4f}, Accuracy: {ac*100:.2f}%, Precision: {pr:.4f}, Recall: {re:.4f}, F1 Score: {f1:.4f}')\n",
        "\n",
        "    epoch_loss, ac, pr, re, f1 = test(model, data_loader=test_loader, criterion=CRITERION, device=DEVICE)\n",
        "    print(f'Test Loss: {epoch_loss:.4f}, Accuracy: {ac*100:.2f}%, Precision: {pr:.4f}, Recall: {re:.4f}, F1 Score: {f1:.4f}\\n')\n"
      ],
      "metadata": {
        "colab": {
          "base_uri": "https://localhost:8080/"
        },
        "id": "iizHUG-1qry9",
        "outputId": "be1e933b-d4c1-42c7-c15b-5646e877de3b"
      },
      "execution_count": null,
      "outputs": [
        {
          "output_type": "stream",
          "name": "stderr",
          "text": []
        },
        {
          "output_type": "stream",
          "name": "stdout",
          "text": [
            "[Epoch - 1] Training Loss: 2.0562, Accuracy: 35.22%, Precision: 0.4314, Recall: 0.3584, F1 Score: 0.3708\n"
          ]
        },
        {
          "output_type": "stream",
          "name": "stderr",
          "text": []
        },
        {
          "output_type": "stream",
          "name": "stdout",
          "text": [
            "Test Loss: 1.7954, Accuracy: 40.93%, Precision: 0.5390, Recall: 0.4110, F1 Score: 0.4266\n",
            "\n"
          ]
        },
        {
          "output_type": "stream",
          "name": "stderr",
          "text": []
        },
        {
          "output_type": "stream",
          "name": "stdout",
          "text": [
            "[Epoch - 2] Training Loss: 1.6184, Accuracy: 45.28%, Precision: 0.5558, Recall: 0.4548, F1 Score: 0.4741\n"
          ]
        },
        {
          "output_type": "stream",
          "name": "stderr",
          "text": []
        },
        {
          "output_type": "stream",
          "name": "stdout",
          "text": [
            "Test Loss: 1.5810, Accuracy: 49.69%, Precision: 0.5738, Recall: 0.4960, F1 Score: 0.5118\n",
            "\n"
          ]
        },
        {
          "output_type": "stream",
          "name": "stderr",
          "text": []
        },
        {
          "output_type": "stream",
          "name": "stdout",
          "text": [
            "[Epoch - 3] Training Loss: 1.4726, Accuracy: 50.77%, Precision: 0.5754, Recall: 0.5116, F1 Score: 0.5281\n"
          ]
        },
        {
          "output_type": "stream",
          "name": "stderr",
          "text": []
        },
        {
          "output_type": "stream",
          "name": "stdout",
          "text": [
            "Test Loss: 1.5058, Accuracy: 50.49%, Precision: 0.5783, Recall: 0.5117, F1 Score: 0.5254\n",
            "\n"
          ]
        },
        {
          "output_type": "stream",
          "name": "stderr",
          "text": []
        },
        {
          "output_type": "stream",
          "name": "stdout",
          "text": [
            "[Epoch - 4] Training Loss: 1.3856, Accuracy: 52.95%, Precision: 0.5720, Recall: 0.5373, F1 Score: 0.5469\n"
          ]
        },
        {
          "output_type": "stream",
          "name": "stderr",
          "text": []
        },
        {
          "output_type": "stream",
          "name": "stdout",
          "text": [
            "Test Loss: 1.5291, Accuracy: 51.86%, Precision: 0.5983, Recall: 0.5295, F1 Score: 0.5402\n",
            "\n"
          ]
        },
        {
          "output_type": "stream",
          "name": "stderr",
          "text": []
        },
        {
          "output_type": "stream",
          "name": "stdout",
          "text": [
            "[Epoch - 5] Training Loss: 1.2751, Accuracy: 57.22%, Precision: 0.6098, Recall: 0.5807, F1 Score: 0.5893\n"
          ]
        },
        {
          "output_type": "stream",
          "name": "stderr",
          "text": []
        },
        {
          "output_type": "stream",
          "name": "stdout",
          "text": [
            "Test Loss: 1.4046, Accuracy: 56.61%, Precision: 0.6020, Recall: 0.5734, F1 Score: 0.5803\n",
            "\n"
          ]
        },
        {
          "output_type": "stream",
          "name": "stderr",
          "text": []
        },
        {
          "output_type": "stream",
          "name": "stdout",
          "text": [
            "[Epoch - 6] Training Loss: 1.1510, Accuracy: 61.75%, Precision: 0.6579, Recall: 0.6295, F1 Score: 0.6386\n"
          ]
        },
        {
          "output_type": "stream",
          "name": "stderr",
          "text": []
        },
        {
          "output_type": "stream",
          "name": "stdout",
          "text": [
            "Test Loss: 1.3825, Accuracy: 58.90%, Precision: 0.6450, Recall: 0.6052, F1 Score: 0.6112\n",
            "\n"
          ]
        },
        {
          "output_type": "stream",
          "name": "stderr",
          "text": []
        },
        {
          "output_type": "stream",
          "name": "stdout",
          "text": [
            "[Epoch - 7] Training Loss: 1.1552, Accuracy: 62.01%, Precision: 0.6557, Recall: 0.6330, F1 Score: 0.6403\n"
          ]
        },
        {
          "output_type": "stream",
          "name": "stderr",
          "text": []
        },
        {
          "output_type": "stream",
          "name": "stdout",
          "text": [
            "Test Loss: 1.3484, Accuracy: 61.42%, Precision: 0.6673, Recall: 0.6210, F1 Score: 0.6360\n",
            "\n"
          ]
        },
        {
          "output_type": "stream",
          "name": "stderr",
          "text": []
        },
        {
          "output_type": "stream",
          "name": "stdout",
          "text": [
            "[Epoch - 8] Training Loss: 1.1351, Accuracy: 62.44%, Precision: 0.6544, Recall: 0.6376, F1 Score: 0.6428\n"
          ]
        },
        {
          "output_type": "stream",
          "name": "stderr",
          "text": []
        },
        {
          "output_type": "stream",
          "name": "stdout",
          "text": [
            "Test Loss: 1.4540, Accuracy: 59.13%, Precision: 0.6293, Recall: 0.6097, F1 Score: 0.6080\n",
            "\n"
          ]
        },
        {
          "output_type": "stream",
          "name": "stderr",
          "text": []
        },
        {
          "output_type": "stream",
          "name": "stdout",
          "text": [
            "[Epoch - 9] Training Loss: 1.0653, Accuracy: 65.57%, Precision: 0.6869, Recall: 0.6680, F1 Score: 0.6743\n"
          ]
        },
        {
          "output_type": "stream",
          "name": "stderr",
          "text": []
        },
        {
          "output_type": "stream",
          "name": "stdout",
          "text": [
            "Test Loss: 1.2632, Accuracy: 61.08%, Precision: 0.6642, Recall: 0.6287, F1 Score: 0.6294\n",
            "\n"
          ]
        },
        {
          "output_type": "stream",
          "name": "stderr",
          "text": []
        },
        {
          "output_type": "stream",
          "name": "stdout",
          "text": [
            "[Epoch - 10] Training Loss: 0.9998, Accuracy: 67.90%, Precision: 0.7054, Recall: 0.6905, F1 Score: 0.6959\n"
          ]
        },
        {
          "output_type": "stream",
          "name": "stderr",
          "text": []
        },
        {
          "output_type": "stream",
          "name": "stdout",
          "text": [
            "Test Loss: 1.3707, Accuracy: 58.21%, Precision: 0.6885, Recall: 0.5928, F1 Score: 0.6072\n",
            "\n"
          ]
        },
        {
          "output_type": "stream",
          "name": "stderr",
          "text": []
        },
        {
          "output_type": "stream",
          "name": "stdout",
          "text": [
            "[Epoch - 11] Training Loss: 0.9896, Accuracy: 67.78%, Precision: 0.7051, Recall: 0.6881, F1 Score: 0.6937\n"
          ]
        },
        {
          "output_type": "stream",
          "name": "stderr",
          "text": []
        },
        {
          "output_type": "stream",
          "name": "stdout",
          "text": [
            "Test Loss: 1.3075, Accuracy: 62.68%, Precision: 0.6535, Recall: 0.6501, F1 Score: 0.6481\n",
            "\n"
          ]
        },
        {
          "output_type": "stream",
          "name": "stderr",
          "text": []
        },
        {
          "output_type": "stream",
          "name": "stdout",
          "text": [
            "[Epoch - 12] Training Loss: 0.8754, Accuracy: 71.06%, Precision: 0.7344, Recall: 0.7223, F1 Score: 0.7266\n"
          ]
        },
        {
          "output_type": "stream",
          "name": "stderr",
          "text": []
        },
        {
          "output_type": "stream",
          "name": "stdout",
          "text": [
            "Test Loss: 1.2561, Accuracy: 65.94%, Precision: 0.6907, Recall: 0.6799, F1 Score: 0.6817\n",
            "\n"
          ]
        },
        {
          "output_type": "stream",
          "name": "stderr",
          "text": []
        },
        {
          "output_type": "stream",
          "name": "stdout",
          "text": [
            "[Epoch - 13] Training Loss: 0.8710, Accuracy: 71.22%, Precision: 0.7376, Recall: 0.7243, F1 Score: 0.7294\n"
          ]
        },
        {
          "output_type": "stream",
          "name": "stderr",
          "text": []
        },
        {
          "output_type": "stream",
          "name": "stdout",
          "text": [
            "Test Loss: 1.3212, Accuracy: 66.97%, Precision: 0.7196, Recall: 0.6853, F1 Score: 0.6921\n",
            "\n"
          ]
        },
        {
          "output_type": "stream",
          "name": "stderr",
          "text": []
        },
        {
          "output_type": "stream",
          "name": "stdout",
          "text": [
            "[Epoch - 14] Training Loss: 0.9321, Accuracy: 70.80%, Precision: 0.7345, Recall: 0.7198, F1 Score: 0.7255\n"
          ]
        },
        {
          "output_type": "stream",
          "name": "stderr",
          "text": []
        },
        {
          "output_type": "stream",
          "name": "stdout",
          "text": [
            "Test Loss: 1.4406, Accuracy: 61.36%, Precision: 0.6680, Recall: 0.6371, F1 Score: 0.6338\n",
            "\n"
          ]
        },
        {
          "output_type": "stream",
          "name": "stderr",
          "text": []
        },
        {
          "output_type": "stream",
          "name": "stdout",
          "text": [
            "[Epoch - 15] Training Loss: 0.8319, Accuracy: 72.43%, Precision: 0.7479, Recall: 0.7357, F1 Score: 0.7398\n"
          ]
        },
        {
          "output_type": "stream",
          "name": "stderr",
          "text": []
        },
        {
          "output_type": "stream",
          "name": "stdout",
          "text": [
            "Test Loss: 1.4388, Accuracy: 69.26%, Precision: 0.7241, Recall: 0.7062, F1 Score: 0.7106\n",
            "\n"
          ]
        },
        {
          "output_type": "stream",
          "name": "stderr",
          "text": []
        },
        {
          "output_type": "stream",
          "name": "stdout",
          "text": [
            "[Epoch - 16] Training Loss: 0.8765, Accuracy: 72.78%, Precision: 0.7459, Recall: 0.7368, F1 Score: 0.7400\n"
          ]
        },
        {
          "output_type": "stream",
          "name": "stderr",
          "text": []
        },
        {
          "output_type": "stream",
          "name": "stdout",
          "text": [
            "Test Loss: 1.3590, Accuracy: 69.43%, Precision: 0.7230, Recall: 0.7072, F1 Score: 0.7137\n",
            "\n"
          ]
        },
        {
          "output_type": "stream",
          "name": "stderr",
          "text": []
        },
        {
          "output_type": "stream",
          "name": "stdout",
          "text": [
            "[Epoch - 17] Training Loss: 0.7079, Accuracy: 76.81%, Precision: 0.7904, Recall: 0.7770, F1 Score: 0.7818\n"
          ]
        },
        {
          "output_type": "stream",
          "name": "stderr",
          "text": []
        },
        {
          "output_type": "stream",
          "name": "stdout",
          "text": [
            "Test Loss: 1.3015, Accuracy: 68.23%, Precision: 0.7128, Recall: 0.6968, F1 Score: 0.7022\n",
            "\n"
          ]
        },
        {
          "output_type": "stream",
          "name": "stderr",
          "text": []
        },
        {
          "output_type": "stream",
          "name": "stdout",
          "text": [
            "[Epoch - 18] Training Loss: 0.7767, Accuracy: 75.70%, Precision: 0.7769, Recall: 0.7655, F1 Score: 0.7696\n"
          ]
        },
        {
          "output_type": "stream",
          "name": "stderr",
          "text": []
        },
        {
          "output_type": "stream",
          "name": "stdout",
          "text": [
            "Test Loss: 1.2184, Accuracy: 70.18%, Precision: 0.7248, Recall: 0.7170, F1 Score: 0.7189\n",
            "\n"
          ]
        },
        {
          "output_type": "stream",
          "name": "stderr",
          "text": []
        },
        {
          "output_type": "stream",
          "name": "stdout",
          "text": [
            "[Epoch - 19] Training Loss: 0.6898, Accuracy: 77.69%, Precision: 0.7948, Recall: 0.7838, F1 Score: 0.7879\n"
          ]
        },
        {
          "output_type": "stream",
          "name": "stderr",
          "text": []
        },
        {
          "output_type": "stream",
          "name": "stdout",
          "text": [
            "Test Loss: 1.2449, Accuracy: 70.69%, Precision: 0.7377, Recall: 0.7214, F1 Score: 0.7212\n",
            "\n"
          ]
        },
        {
          "output_type": "stream",
          "name": "stderr",
          "text": []
        },
        {
          "output_type": "stream",
          "name": "stdout",
          "text": [
            "[Epoch - 20] Training Loss: 0.6306, Accuracy: 79.40%, Precision: 0.8100, Recall: 0.8029, F1 Score: 0.8051\n"
          ]
        },
        {
          "output_type": "stream",
          "name": "stderr",
          "text": [
            "                                                           "
          ]
        },
        {
          "output_type": "stream",
          "name": "stdout",
          "text": [
            "Test Loss: 1.3002, Accuracy: 72.12%, Precision: 0.7437, Recall: 0.7272, F1 Score: 0.7275\n",
            "\n"
          ]
        },
        {
          "output_type": "stream",
          "name": "stderr",
          "text": [
            "\r"
          ]
        }
      ]
    },
    {
      "cell_type": "code",
      "source": [],
      "metadata": {
        "id": "7AJK3pbosSc1"
      },
      "execution_count": null,
      "outputs": []
    },
    {
      "cell_type": "code",
      "source": [],
      "metadata": {
        "id": "s4qutHTQsSgA"
      },
      "execution_count": null,
      "outputs": []
    },
    {
      "cell_type": "code",
      "source": [],
      "metadata": {
        "id": "NRKJuBRlsSit"
      },
      "execution_count": null,
      "outputs": []
    },
    {
      "cell_type": "code",
      "source": [],
      "metadata": {
        "id": "Jp8A9O1csSlP"
      },
      "execution_count": null,
      "outputs": []
    }
  ]
}